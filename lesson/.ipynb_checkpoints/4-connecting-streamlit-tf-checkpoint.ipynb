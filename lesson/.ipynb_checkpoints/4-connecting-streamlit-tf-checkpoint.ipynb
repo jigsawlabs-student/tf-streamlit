{
 "cells": [
  {
   "cell_type": "markdown",
   "id": "876da35c-9842-4bd0-b474-d6189590813d",
   "metadata": {},
   "source": [
    "# Connecting Streamlit with TF - TF Fullstack"
   ]
  },
  {
   "cell_type": "markdown",
   "id": "6dade9f7-dffc-4716-9b89-e43f4f05f8d2",
   "metadata": {},
   "source": [
    "### Introduction"
   ]
  },
  {
   "cell_type": "markdown",
   "id": "8e040d31-650a-4887-8064-be1aa5173074",
   "metadata": {},
   "source": [
    "So in the previous lesson, we saw how we can use terraform to set up our infrastructure and set up our flask api using docker.  In this lesson, we can move onto connecting our streamlit application."
   ]
  },
  {
   "cell_type": "markdown",
   "id": "6858e73f-2030-4208-95c7-3b115e9e5410",
   "metadata": {},
   "source": [
    "### Building and connecting our frontend"
   ]
  },
  {
   "cell_type": "markdown",
   "id": "1cdf7212-cd30-4a38-8b4d-f883ec339a1b",
   "metadata": {},
   "source": [
    "* Dockerizing our frontend streamlit app"
   ]
  },
  {
   "cell_type": "markdown",
   "id": "71d6dcd7-a972-4961-855f-0703d174d6d3",
   "metadata": {},
   "source": [
    "Ok, so the first step is to dockerize our streamlit application.  If you navigate to the `frontend` folder, and then the Dockerfile, you'll see the following:"
   ]
  },
  {
   "cell_type": "markdown",
   "id": "46aeaae9-b5df-43a6-838f-cc5bf2a33171",
   "metadata": {},
   "source": [
    "```Dockerfile\n",
    "CMD [\"streamlit\", \"run\", \"./index.py\", \"--server.address=0.0.0.0\", \"--server.port=80\"]\n",
    "```"
   ]
  },
  {
   "cell_type": "markdown",
   "id": "6070551e-20a3-430b-a360-62d52a7bef14",
   "metadata": {},
   "source": [
    "Ok, so here we have our normal command to start up our streamlit app, but then we pass some additional arguments.  The `--server.port` argument, tells streamlit to run on port 80.  And remember, we'll want that port because this is the dashboard a web browser will connect to - and web browsers by default make requests to port 80.  We also specify a server address as port `0.0.0.0`, which will tell streamlit to accept requests from external environments (eg. computerS), just like it does for flask."
   ]
  },
  {
   "cell_type": "markdown",
   "id": "4b006d63-166f-440e-bfc6-32ae3d942848",
   "metadata": {},
   "source": [
    "* Ok, so let's build our streamlit app -- you can build it, specifying the dockerhub username you'll ultimately want to deploy it to.  We'll test it out locally, so you don't need the platform argument just yet."
   ]
  },
  {
   "cell_type": "markdown",
   "id": "3a69493a-f14d-4155-bb68-008aaa880c05",
   "metadata": {},
   "source": [
    "Once you build the streamlit frontend, we'll want to also bootup the backend application (on our laptop), so that we can see how the streamlit frontend can make requests to the backend api.  \n",
    "\n",
    "Before moving on, let's see explore how this can occur.  If you at the `frontend/app/settings.py` file, you'll see the following.\n",
    "\n",
    "```python\n",
    "API_HOST = os.environ.get('API_HOST')\n",
    "API_PORT = os.environ.get('API_PORT')\n",
    "api_url = f\"http://{API_HOST}:{API_PORT}/positions\"\n",
    "```\n",
    "\n",
    "So our `api_url` defines where the streamlit app will make requests to.  And in the `.env` file you'll see the host defined as `backend` and the port as 5000.  So putting this together with the `view_functions.py` code, you can see that our streamlit app makes a request to `http://backend:5000/positions`\n",
    "\n",
    "```python\n",
    "from settings import api_url\n",
    "\n",
    "def find_positions():\n",
    "    response = requests.get(api_url)\n",
    "    ...\n",
    "```\n",
    "\n",
    "How do we make a request to `http://backend:5000`?  Well, we can do this, so long as we also have booted up our image of our backend api, and given it a container name of `backend`.  We'll also need to create a docker network, and make sure they both run on the same network."
   ]
  },
  {
   "cell_type": "markdown",
   "id": "6dda34b2-da73-410f-b9e6-f50b9ad74d3c",
   "metadata": {},
   "source": [
    "### Connecting our containers with a network"
   ]
  },
  {
   "cell_type": "markdown",
   "id": "35a98da3-83b1-427d-9558-91fd07307d89",
   "metadata": {},
   "source": [
    "So let's move onto do this.  We can create a docker network, where each of our containers will live on with:"
   ]
  },
  {
   "cell_type": "markdown",
   "id": "5e8d25dd-777c-4ae3-a804-41f3ee092739",
   "metadata": {},
   "source": [
    "```bash\n",
    "docker network create jobs-scraper\n",
    "```"
   ]
  },
  {
   "cell_type": "markdown",
   "id": "ae69491b-edb5-4194-8376-ed381bf0b23e",
   "metadata": {},
   "source": [
    "And from there, we can tell the backend container to run on that network with the following."
   ]
  },
  {
   "cell_type": "markdown",
   "id": "00b27eee-25e0-4d94-81af-7a4192f5f5a1",
   "metadata": {},
   "source": [
    "```bash\n",
    "docker run -d -p 5000:5000 --network jobs-scraper --name backend -e DB_USERNAME=$DB_USERNAME -e DB_PASSWORD=$DB_PASSWORD -e DB_NAME=$DB_NAME -e DB_HOST=$DB_HOST $BACKEND_IMAGE\n",
    "```"
   ]
  },
  {
   "cell_type": "markdown",
   "id": "ced878c2-c25d-4361-b471-c6f77d3adaee",
   "metadata": {},
   "source": [
    "> You can export the needed variables (look for what you specified in your `ec2-setup.sh` file previously)"
   ]
  },
  {
   "cell_type": "markdown",
   "id": "f6333912-26c5-442f-88fc-3ceac7e58a8b",
   "metadata": {},
   "source": [
    "And do the same for the frontend application."
   ]
  },
  {
   "cell_type": "markdown",
   "id": "57e3da7e-8a0e-4629-a084-a6da891e1d1d",
   "metadata": {},
   "source": [
    "> Change `backend_image_name` to match your image's name."
   ]
  },
  {
   "cell_type": "markdown",
   "id": "7e51e0d3-3cc3-4659-8192-359018bc8f3d",
   "metadata": {},
   "source": [
    "```bash\n",
    "docker run -d -p 80:80 --network jobs-scraper --name frontend backend_image_name\n",
    "```"
   ]
  },
  {
   "cell_type": "markdown",
   "id": "609f4d7c-b9d6-44b8-93e0-077975e70151",
   "metadata": {},
   "source": [
    "> The `-d` means that each container will be run as a daemon, that is, a background process.  You can still confirm both are running with `docker ps`, and shut them down with `docker stop container_name` and `docker rm container_name`."
   ]
  },
  {
   "cell_type": "markdown",
   "id": "f24848c0-970a-48d7-939f-10d17a6a15de",
   "metadata": {},
   "source": [
    "### Encoding it"
   ]
  },
  {
   "cell_type": "markdown",
   "id": "c99c1745-8076-41f9-80a9-340bd4f77cee",
   "metadata": {},
   "source": [
    "Ok, so now we should update our `ec2-setup.sh` file, confirm that our code works on our laptop, and then we can update our `ec2-setup.tpl` file.\n",
    "\n",
    "So in the `ec2-setup.sh` file, do the following:"
   ]
  },
  {
   "cell_type": "markdown",
   "id": "75a0f59d-87fe-4212-bce6-9bb6936e6d34",
   "metadata": {},
   "source": [
    "1. Write code to pull the `FRONTEND_IMAGE`.  Include a `while` block that will repull the image if it's not there, and then sleep for five seconds.\n",
    "\n",
    "2. Add code to stop and remove the frontend container, but have an `if` block to only run the commands if the container is already running.\n",
    "\n",
    "3. Add code to create the network, but only if the network does not exist.  If the network already exists, use `echo` to indicate you are skipping this step.\n",
    "\n",
    "4. Then add the code to run both the containers on the network\n",
    "\n",
    "* Confirm that the app properly boots up.\n",
    "\n",
    "```\n",
    "sh ec2-setup.sh\n",
    "```"
   ]
  },
  {
   "cell_type": "markdown",
   "id": "1372f8e6-7cee-408e-ba8d-1213652766eb",
   "metadata": {},
   "source": [
    "* Before moving on, do some refactoring by assigning and properly referencing variables of `NETWORK_NAME`, `FRONTEND_CONTAINER`, and `FRONTEND_IMAGE`."
   ]
  },
  {
   "cell_type": "markdown",
   "id": "10f1d5bb-27db-4360-a255-5870871568a3",
   "metadata": {},
   "source": [
    "Towards the top of the file, you should have the following variables declared:"
   ]
  },
  {
   "cell_type": "markdown",
   "id": "0ecffe77-5872-4c1f-80b2-4384c1a10270",
   "metadata": {},
   "source": [
    "```bash\n",
    "export NETWORK_NAME=\"\"\n",
    "export BACKEND_CONTAINER=\"\"\n",
    "export FRONTEND_CONTAINER=\"\"\n",
    "export BACKEND_IMAGE=\"\"\n",
    "export FRONTEND_IMAGE=\"\"\n",
    "export DB_USERNAME=\"\"\n",
    "export DB_PASSWORD=\"\"\n",
    "export DB_NAME=\"\"\n",
    "```"
   ]
  },
  {
   "cell_type": "markdown",
   "id": "99d8d603-4f7e-49d0-923e-a067dbf624ec",
   "metadata": {},
   "source": [
    "### Moving to AWS"
   ]
  },
  {
   "cell_type": "markdown",
   "id": "8372595f-23cf-47c3-951f-14cf1a18afed",
   "metadata": {},
   "source": [
    "Ok, so now let's begin to update this code to work on our AWS instance.  \n",
    "\n",
    "* Rebuild the image\n",
    "    * To start, we'll need to rebuild the image specifying the platform of `--platform=linux/amd64/v2`, and when tagging the image specify a different version (eg. `jek2141/scraper_frontend:amd_v2`).  \n",
    "    * Push up the image when it's ready\n"
   ]
  },
  {
   "cell_type": "markdown",
   "id": "dc723880-5c85-46f3-a81d-f4ceff8d2a52",
   "metadata": {},
   "source": [
    "* Update the terraform script and template to add our new procedures\n",
    "    * We'll let you do this.  Remember to add any `sudo` prefixes to your docker commands).  \n",
    "    > You can check your work with `terraform console`\n",
    "\n",
    "After deploying you can check your work by shing into the ec2 machine.  You can check your work by confirming that both containers are up and running.  And if there are errors remember you can see the logs with:\n",
    "    \n",
    "```bash\n",
    "cat /var/log/cloud-init-output.log\n",
    "cat /var/log/cloud-init.log\n",
    "```"
   ]
  },
  {
   "cell_type": "markdown",
   "id": "927d64a3-2f6a-4519-9f27-695269f58594",
   "metadata": {},
   "source": [
    "If things look good you can go to your ec2 domain name, and see if you get your dashboard when making an `http://` request."
   ]
  },
  {
   "cell_type": "markdown",
   "id": "d8ba941b-874d-4a58-912e-e97095fe6ef8",
   "metadata": {},
   "source": [
    "<img src=\"./complete-deployment.png\" width=\"60%\">"
   ]
  },
  {
   "cell_type": "markdown",
   "id": "6328122d-5fe3-4bbb-b9c4-59ac0b6bdb1c",
   "metadata": {},
   "source": [
    "Exhale.  If this isn't nice, what is."
   ]
  },
  {
   "cell_type": "markdown",
   "id": "d7b9fb5d-0535-46a5-87a3-7828aa588a1e",
   "metadata": {},
   "source": [
    "### Summary"
   ]
  },
  {
   "cell_type": "markdown",
   "id": "c0187fd6-b86a-4848-a205-5f6ce55f73fe",
   "metadata": {},
   "source": [
    "In this lesson, we placed the finishing touches on deploying our application.  The main step was to make use of a docker network.  Remember, this allowed us to make a request to something like:\n",
    "\n",
    "```\n",
    "http://backend:5000/positions\n",
    "``` \n",
    "\n",
    "From our frontend dashboard.  And this worked so long as we named our backend container `backend`, and also created a network, booted up both the frontend and backend containers on those networks.  And we do this by first creating a network, and then specifying that network when running the container.\n",
    "\n",
    "```\n",
    "docker network create jobs-scraper\n",
    "\n",
    "docker run -d -p 80:80 --network jobs-scraper --name frontend backend_image_name\n",
    "```"
   ]
  },
  {
   "cell_type": "markdown",
   "id": "d1f795aa-34cd-4a6a-91c0-c2c5c8b300d7",
   "metadata": {},
   "source": [
    "### Resources\n",
    "\n",
    "[Terraform templates environmental issue](https://discuss.hashicorp.com/t/template-v2-2-0-does-not-have-a-package-available-mac-m1/35099/3)"
   ]
  }
 ],
 "metadata": {
  "kernelspec": {
   "display_name": "Python 3 (ipykernel)",
   "language": "python",
   "name": "python3"
  },
  "language_info": {
   "codemirror_mode": {
    "name": "ipython",
    "version": 3
   },
   "file_extension": ".py",
   "mimetype": "text/x-python",
   "name": "python",
   "nbconvert_exporter": "python",
   "pygments_lexer": "ipython3",
   "version": "3.10.13"
  }
 },
 "nbformat": 4,
 "nbformat_minor": 5
}
